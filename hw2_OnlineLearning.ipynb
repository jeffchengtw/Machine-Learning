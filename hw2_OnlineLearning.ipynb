{
 "cells": [
  {
   "cell_type": "code",
   "execution_count": 75,
   "metadata": {},
   "outputs": [],
   "source": [
    "import math\n",
    "import numpy as np\n",
    "\n",
    "def C(N, m):\n",
    "    return float(math.factorial(N)//(math.factorial(N-m)*math.factorial(m)))\n",
    "\n",
    "def compute_likelihood(a, b, testcase):\n",
    "    likelihood = np.zeros((len(testcase)))\n",
    "    for i in range(len(testcase)):\n",
    "        line = testcase[i].strip()\n",
    "        N = len(line)\n",
    "        m = 0\n",
    "        for char in line:\n",
    "            m += 1 if char == '1' else 0\n",
    "        P = m / N\n",
    "        likelihood[i] = C(N, m) * (P ** m) * ((1 - P) ** (N - m))\n",
    "        print(f'case {i + 1}: {line}')\n",
    "        print(f'Likelihood: {likelihood[i]}')\n",
    "        print(f'Beta prior:\\ta = {a}\\tb = {b}')\n",
    "        a += m\n",
    "        b += (N - m)\n",
    "        print(f'Beta posterior:\\ta = {a}\\tb = {b}\\n')\n",
    "   "
   ]
  },
  {
   "cell_type": "code",
   "execution_count": 76,
   "metadata": {},
   "outputs": [],
   "source": [
    "with open('testfile.txt', 'r', encoding='utf-8') as file:\n",
    "    testcase = file.readlines()"
   ]
  },
  {
   "cell_type": "markdown",
   "metadata": {},
   "source": [
    "# Case 1 : a=0, b=0"
   ]
  },
  {
   "cell_type": "code",
   "execution_count": 77,
   "metadata": {},
   "outputs": [
    {
     "name": "stdout",
     "output_type": "stream",
     "text": [
      "case 1: 0101010101001011010101\n",
      "Likelihood: 0.16818809509277344\n",
      "Beta prior:\ta = 0\tb = 0\n",
      "Beta posterior:\ta = 11\tb = 11\n",
      "\n",
      "case 2: 0110101\n",
      "Likelihood: 0.29375515303997485\n",
      "Beta prior:\ta = 11\tb = 11\n",
      "Beta posterior:\ta = 15\tb = 14\n",
      "\n",
      "case 3: 010110101101\n",
      "Likelihood: 0.2286054241794335\n",
      "Beta prior:\ta = 15\tb = 14\n",
      "Beta posterior:\ta = 22\tb = 19\n",
      "\n",
      "case 4: 0101101011101011010\n",
      "Likelihood: 0.18286870706509092\n",
      "Beta prior:\ta = 22\tb = 19\n",
      "Beta posterior:\ta = 33\tb = 27\n",
      "\n",
      "case 5: 111101100011110\n",
      "Likelihood: 0.2143070548857833\n",
      "Beta prior:\ta = 33\tb = 27\n",
      "Beta posterior:\ta = 43\tb = 32\n",
      "\n",
      "case 6: 101110111000110\n",
      "Likelihood: 0.20659760529408\n",
      "Beta prior:\ta = 43\tb = 32\n",
      "Beta posterior:\ta = 52\tb = 38\n",
      "\n",
      "case 7: 1010010111\n",
      "Likelihood: 0.25082265600000003\n",
      "Beta prior:\ta = 52\tb = 38\n",
      "Beta posterior:\ta = 58\tb = 42\n",
      "\n",
      "case 8: 11101110110\n",
      "Likelihood: 0.2619678932864457\n",
      "Beta prior:\ta = 58\tb = 42\n",
      "Beta posterior:\ta = 66\tb = 45\n",
      "\n",
      "case 9: 01000111101\n",
      "Likelihood: 0.23609128871506807\n",
      "Beta prior:\ta = 66\tb = 45\n",
      "Beta posterior:\ta = 72\tb = 50\n",
      "\n",
      "case 10: 110100111\n",
      "Likelihood: 0.27312909617436365\n",
      "Beta prior:\ta = 72\tb = 50\n",
      "Beta posterior:\ta = 78\tb = 53\n",
      "\n",
      "case 11: 01101010111\n",
      "Likelihood: 0.24384881449471862\n",
      "Beta prior:\ta = 78\tb = 53\n",
      "Beta posterior:\ta = 85\tb = 57\n",
      "\n"
     ]
    }
   ],
   "source": [
    "a, b = 0, 0\n",
    "compute_likelihood(a, b, testcase)"
   ]
  },
  {
   "cell_type": "code",
   "execution_count": null,
   "metadata": {},
   "outputs": [],
   "source": []
  }
 ],
 "metadata": {
  "kernelspec": {
   "display_name": "Python 3",
   "language": "python",
   "name": "python3"
  },
  "language_info": {
   "codemirror_mode": {
    "name": "ipython",
    "version": 3
   },
   "file_extension": ".py",
   "mimetype": "text/x-python",
   "name": "python",
   "nbconvert_exporter": "python",
   "pygments_lexer": "ipython3",
   "version": "3.7.4"
  }
 },
 "nbformat": 4,
 "nbformat_minor": 2
}
