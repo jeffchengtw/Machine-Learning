{
 "cells": [
  {
   "cell_type": "code",
   "execution_count": 1,
   "metadata": {},
   "outputs": [],
   "source": [
    "import numpy as np\n",
    "import matplotlib.pyplot as plt\n",
    "from scipy.optimize import minimize\n",
    "from numpy.linalg import inv, det, cholesky"
   ]
  },
  {
   "cell_type": "markdown",
   "metadata": {},
   "source": [
    "# Gaussian Process- Task 1"
   ]
  },
  {
   "cell_type": "markdown",
   "metadata": {},
   "source": [
    "## Read Data"
   ]
  },
  {
   "cell_type": "markdown",
   "metadata": {},
   "source": [
    "$X : 34 \\times 1$ <br>\n",
    "$y : 34 \\times 1$ <br>"
   ]
  },
  {
   "cell_type": "code",
   "execution_count": 2,
   "metadata": {},
   "outputs": [],
   "source": [
    "def load_data(path):\n",
    "    x=[]\n",
    "    y=[]\n",
    "    for line in open(path):\n",
    "        point = line.split(' ')\n",
    "        x.append(float(point[0]))\n",
    "        y.append(float(point[1]))\n",
    "    X = np.array(x, dtype=np.float64).reshape(-1, 1)\n",
    "    y = np.array(y, dtype=np.float64).reshape(-1, 1)\n",
    "\n",
    "    return X, y"
   ]
  },
  {
   "cell_type": "markdown",
   "metadata": {},
   "source": [
    "## Kernel Function"
   ]
  },
  {
   "cell_type": "markdown",
   "metadata": {},
   "source": [
    "Rational Quadratic Kernel\n",
    "$k(x_{a},x_{b}) = \\sigma^{2}(1+\\frac{||x_{a}-x_{b}||^{2}}{2\\alpha l^{2}})^{-\\alpha}$<br>\n",
    "$\\sigma^{2}$ : the overall variance.<br>\n",
    "$l$ : the length scale. <br>\n",
    "$\\alpha$ : the scale-mixture ( >0)."
   ]
  },
  {
   "cell_type": "code",
   "execution_count": 3,
   "metadata": {},
   "outputs": [],
   "source": [
    "def k(xa, xb, alpha, sigma, length_scale):\n",
    "    xa = xa.reshape(-1, 1)\n",
    "    xb = xb.reshape(1, -1)\n",
    "    return sigma * (1 + np.power(xa - xb, 2) / (2 * alpha * length_scale ** 2)) ** (-alpha)"
   ]
  },
  {
   "cell_type": "markdown",
   "metadata": {},
   "source": [
    "## Prediction"
   ]
  },
  {
   "cell_type": "markdown",
   "metadata": {},
   "source": [
    "$G$ therefore if we want to predict the distribution of new $f*$, we just need to compute the covaraince matrix of $G$, then cut $G $ on $f^{*}$ to see the condition distribution thus achieve prediction. <br>\n",
    "$C(x_{n},x_{m})=k(x_{n},x_{m})+\\beta ^{-1} \\delta _{nm}$"
   ]
  },
  {
   "cell_type": "markdown",
   "metadata": {},
   "source": [
    "$\\mu (x^{*}) = k(x,x^{*})^{T}C^{-1}y \\\\ \\sigma^{2}(x) = k^{*} - k(x,x^{*})^{T}C^{-1}k(x,x^{*})\\\\k^{*} = k(x^{*},x^{*})+\\beta^{-1}$"
   ]
  },
  {
   "cell_type": "code",
   "execution_count": 4,
   "metadata": {},
   "outputs": [],
   "source": [
    "def predict(X_star, X, y, C, alpha, beta, sigma, length_scale):\n",
    "    \n",
    "    k_star = k(X_star, X_star, alpha, sigma, length_scale) + beta**(-1)\n",
    "    k_of_x_x_star = k(X, X_star, alpha, sigma, length_scale)\n",
    "    C_inv = np.linalg.inv(C)\n",
    "    mean = k_of_x_x_star.T@C_inv@y\n",
    "    variance = k_star - k_of_x_x_star.T@C_inv@k_of_x_x_star\n",
    "    \n",
    "    return mean, variance"
   ]
  },
  {
   "cell_type": "markdown",
   "metadata": {},
   "source": [
    "## Negative log-Likelihood"
   ]
  },
  {
   "cell_type": "markdown",
   "metadata": {},
   "source": [
    "$\\ln p(y|\\theta) = -\\frac{1}{2}\\ln|C_{\\theta|}-\\frac{1}{2}y^{T}C^{-1}_{\\theta}y-\\frac{N}{2}\\ln(2\\pi)$"
   ]
  },
  {
   "cell_type": "code",
   "execution_count": 5,
   "metadata": {},
   "outputs": [],
   "source": [
    "def objective_function(theta, X, y, beta):\n",
    "    theta = theta.ravel()\n",
    "    sigma = theta[0]\n",
    "    alpha = theta[1]\n",
    "    length_scale = theta[2]\n",
    "    \n",
    "    delta = np.identity(len(X), dtype=np.float64)\n",
    "    C = k(X, X, alpha, sigma, length_scale) + beta**(-1) * delta\n",
    "    C_inv = np.linalg.inv(C)\n",
    "    likelihood = ((1/2)*np.log(np.linalg.det(C)))+((1/2)*y.T@C_inv@y)+((1/2)*(len(X))*np.log(2*np.pi))\n",
    "    \n",
    "    return likelihood.ravel()"
   ]
  },
  {
   "cell_type": "code",
   "execution_count": 6,
   "metadata": {},
   "outputs": [],
   "source": [
    "X, y = load_data('data\\ML_HW05\\data\\input.data')\n",
    "alpha = 1\n",
    "beta = 5\n",
    "sigma = 1\n",
    "length_scale = 1"
   ]
  },
  {
   "cell_type": "code",
   "execution_count": 7,
   "metadata": {},
   "outputs": [
    {
     "name": "stdout",
     "output_type": "stream",
     "text": [
      "after optimization\n",
      "sigma : 1.7206633833720293 , alpha : 306.49608574602564 , length_scale : 3.3221506784275\n"
     ]
    }
   ],
   "source": [
    "opt = minimize(objective_function, [sigma, alpha, length_scale], \n",
    "                    bounds=((1e-8, 1e6), (1e-8, 1e6), (1e-8, 1e6)), \n",
    "                    args=(X, y, beta))\n",
    "opt_sigma = opt.x[0]\n",
    "opt_alpha = opt.x[1]\n",
    "opt_length_scale = opt.x[2]\n",
    "\n",
    "print('after optimization')\n",
    "print(f'sigma : {opt_sigma} , alpha : {opt_alpha} , length_scale : {opt_length_scale}')"
   ]
  },
  {
   "cell_type": "code",
   "execution_count": 8,
   "metadata": {},
   "outputs": [],
   "source": [
    "delta = np.identity(len(X), dtype=np.float64)\n",
    "C = k(X, X, opt_alpha, opt_sigma, opt_length_scale) + beta**(-1) * delta"
   ]
  },
  {
   "cell_type": "code",
   "execution_count": 9,
   "metadata": {},
   "outputs": [],
   "source": [
    "line_test_x = np.linspace(-60, 60, num=500)\n",
    "mean, variance = predict(line_test_x, X, y, C, opt_alpha, beta, opt_sigma, opt_length_scale)\n",
    "mean=mean.reshape(-1)\n",
    "variance = np.sqrt(np.diag(variance))"
   ]
  },
  {
   "cell_type": "code",
   "execution_count": 10,
   "metadata": {},
   "outputs": [],
   "source": [
    "def visualization(X, y, line_test_x, mean, variance):\n",
    "    plt.plot(line_test_x, mean)\n",
    "    plt.fill_between(line_test_x, mean+1.96*variance, mean-1.96*variance, facecolor='salmon')\n",
    "    plt.xlim(-60,60)\n",
    "    plt.plot(X, y, 'bo')\n",
    "    plt.title('result')\n",
    "    plt.show"
   ]
  },
  {
   "cell_type": "code",
   "execution_count": 11,
   "metadata": {},
   "outputs": [
    {
     "data": {
      "image/png": "[encoded data removed]",
      "text/plain": [
       "<Figure size 432x288 with 1 Axes>"
      ]
     },
     "metadata": {
      "needs_background": "light"
     },
     "output_type": "display_data"
    }
   ],
   "source": [
    "visualization(X, y, line_test_x, mean, variance)"
   ]
  },
  {
   "cell_type": "code",
   "execution_count": null,
   "metadata": {},
   "outputs": [],
   "source": []
  }
 ],
 "metadata": {
  "kernelspec": {
   "display_name": "Python 3",
   "language": "python",
   "name": "python3"
  },
  "language_info": {
   "codemirror_mode": {
    "name": "ipython",
    "version": 3
   },
   "file_extension": ".py",
   "mimetype": "text/x-python",
   "name": "python",
   "nbconvert_exporter": "python",
   "pygments_lexer": "ipython3",
   "version": "3.7.4"
  }
 },
 "nbformat": 4,
 "nbformat_minor": 2
}
