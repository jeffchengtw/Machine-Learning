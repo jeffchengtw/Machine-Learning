{
 "cells": [
  {
   "cell_type": "code",
   "execution_count": 13,
   "metadata": {},
   "outputs": [],
   "source": [
    "import os\n",
    "import numpy as np\n",
    "import csv\n",
    "import matplotlib.pyplot as plt\n",
    "from libsvm.svmutil import *"
   ]
  },
  {
   "cell_type": "markdown",
   "metadata": {},
   "source": [
    "# SVM Task-1"
   ]
  },
  {
   "cell_type": "markdown",
   "metadata": {},
   "source": [
    "## MNIST Reading"
   ]
  },
  {
   "cell_type": "markdown",
   "metadata": {},
   "source": [
    "X_train.csv is a $5000 \\times 784 $matrix. Every row corresponds to a $28 \\times 28 $gray-scale image. <br>\n",
    "Y_train.csv is a $5000 \\times 1 $matrix, which records the class of the training samples.<br>"
   ]
  },
  {
   "cell_type": "code",
   "execution_count": 14,
   "metadata": {},
   "outputs": [],
   "source": [
    "# for each row in X_train.csv is an image\n",
    "def load_X_data(file): \n",
    "    X=[]\n",
    "    with open(file, 'r') as f:\n",
    "        reader = csv.reader(f)\n",
    "        for row in reader:\n",
    "            X.append(np.array(row))\n",
    "        X = np.asarray(X, dtype=np.float32)\n",
    "    return X\n",
    "\n",
    "# 5000 class category\n",
    "def load_y_data(file):\n",
    "    y=[]\n",
    "    with open(file, 'r') as f:\n",
    "        reader = csv.reader(f)\n",
    "        for row in reader:\n",
    "            y.append(row[0])\n",
    "        y = np.asarray(y, dtype=int)\n",
    "    return y"
   ]
  },
  {
   "cell_type": "code",
   "execution_count": 15,
   "metadata": {},
   "outputs": [],
   "source": [
    "train_X = load_X_data(r'data\\ML_HW05\\data\\X_train.csv')\n",
    "train_y = load_y_data(r'data\\ML_HW05\\data\\y_train.csv')\n",
    "test_X = load_X_data(r'data\\ML_HW05\\data\\X_test.csv')\n",
    "test_y = load_y_data(r'data\\ML_HW05\\data\\y_test.csv')"
   ]
  },
  {
   "cell_type": "markdown",
   "metadata": {},
   "source": [
    "## API svm_train param"
   ]
  },
  {
   "cell_type": "markdown",
   "metadata": {},
   "source": [
    "-t kernel_type : set type of kernel function (default 2) <br>\n",
    "    0 -- linear: u'*v<br>\n",
    "    1 -- polynomial: (gamma*u'*v + coef0)^degree<br>\n",
    "    2 -- radial basis function: exp(-gamma*|u-v|^2)<br>"
   ]
  },
  {
   "cell_type": "code",
   "execution_count": 16,
   "metadata": {},
   "outputs": [],
   "source": [
    "kernel_type = ['-t 0', '-t 1', '-t 2']"
   ]
  },
  {
   "cell_type": "code",
   "execution_count": 17,
   "metadata": {},
   "outputs": [],
   "source": [
    "accuracy=[]\n",
    "for kernel in kernel_type:\n",
    "    model = svm_train(train_y, train_X, '-q ' + kernel)\n",
    "    predict_y, predict_acc, predict_val = svm_predict(test_y, test_X, model, '-q')\n",
    "    accuracy.append(predict_acc[0])"
   ]
  },
  {
   "cell_type": "code",
   "execution_count": 18,
   "metadata": {},
   "outputs": [
    {
     "name": "stdout",
     "output_type": "stream",
     "text": [
      "-------result of accuracy-------\n",
      "linear : 95.08 %\n",
      "polynomial : 34.68 %\n",
      "radial basis function : 95.32000000000001 %\n",
      "-------result of accuracy-------\n"
     ]
    }
   ],
   "source": [
    "print('-------result of accuracy-------')\n",
    "print(f'linear : {accuracy[0]} %')\n",
    "print(f'polynomial : {accuracy[1]} %')\n",
    "print(f'radial basis function : {accuracy[2]} %')\n",
    "print('-------result of accuracy-------')"
   ]
  }
 ],
 "metadata": {
  "kernelspec": {
   "display_name": "Python [conda env:ML]",
   "language": "python",
   "name": "conda-env-ML-py"
  },
  "language_info": {
   "codemirror_mode": {
    "name": "ipython",
    "version": 3
   },
   "file_extension": ".py",
   "mimetype": "text/x-python",
   "name": "python",
   "nbconvert_exporter": "python",
   "pygments_lexer": "ipython3",
   "version": "3.6.13"
  }
 },
 "nbformat": 4,
 "nbformat_minor": 2
}
