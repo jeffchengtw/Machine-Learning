{
 "cells": [
  {
   "cell_type": "code",
   "execution_count": 1,
   "metadata": {},
   "outputs": [],
   "source": [
    "import os\n",
    "import numpy as np\n",
    "import csv\n",
    "import matplotlib.pyplot as plt\n",
    "from libsvm.svmutil import *\n",
    "from scipy.spatial.distance import cdist"
   ]
  },
  {
   "cell_type": "markdown",
   "metadata": {},
   "source": [
    "# SVM Task-1"
   ]
  },
  {
   "cell_type": "markdown",
   "metadata": {},
   "source": [
    "## MNIST Reading"
   ]
  },
  {
   "cell_type": "markdown",
   "metadata": {},
   "source": [
    "X_train.csv is a $5000 \\times 784 $matrix. Every row corresponds to a $28 \\times 28 $gray-scale image. <br>\n",
    "Y_train.csv is a $5000 \\times 1 $matrix, which records the class of the training samples.<br>"
   ]
  },
  {
   "cell_type": "code",
   "execution_count": 2,
   "metadata": {},
   "outputs": [],
   "source": [
    "# for each row in X_train.csv is an image\n",
    "def load_X_data(file): \n",
    "    X=[]\n",
    "    with open(file, 'r') as f:\n",
    "        reader = csv.reader(f)\n",
    "        for row in reader:\n",
    "            X.append(np.array(row))\n",
    "        X = np.asarray(X, dtype=np.float32)\n",
    "    return X\n",
    "\n",
    "# 5000 class category\n",
    "def load_y_data(file):\n",
    "    y=[]\n",
    "    with open(file, 'r') as f:\n",
    "        reader = csv.reader(f)\n",
    "        for row in reader:\n",
    "            y.append(row[0])\n",
    "        y = np.asarray(y, dtype=int)\n",
    "    return y"
   ]
  },
  {
   "cell_type": "code",
   "execution_count": 3,
   "metadata": {},
   "outputs": [],
   "source": [
    "train_X = load_X_data(r'data\\ML_HW05\\data\\X_train.csv')\n",
    "train_y = load_y_data(r'data\\ML_HW05\\data\\y_train.csv')\n",
    "test_X = load_X_data(r'data\\ML_HW05\\data\\X_test.csv')\n",
    "test_y = load_y_data(r'data\\ML_HW05\\data\\y_test.csv')"
   ]
  },
  {
   "cell_type": "markdown",
   "metadata": {},
   "source": [
    "## API svm_train param"
   ]
  },
  {
   "cell_type": "markdown",
   "metadata": {},
   "source": [
    "-t kernel_type : set type of kernel function (default 2) <br>\n",
    "&emsp;4 -- precomputed kernel (kernel values in training_set_file)<br>\n",
    " "
   ]
  },
  {
   "cell_type": "code",
   "execution_count": 4,
   "metadata": {},
   "outputs": [],
   "source": [
    "kernel_type = ['-t 0', '-t 1', '-t 1']"
   ]
  },
  {
   "cell_type": "markdown",
   "metadata": {},
   "source": [
    "## Linear Kernel"
   ]
  },
  {
   "cell_type": "markdown",
   "metadata": {},
   "source": [
    "$k(X_{i}, X) = X_{i} \\cdot X$"
   ]
  },
  {
   "cell_type": "code",
   "execution_count": 5,
   "metadata": {},
   "outputs": [],
   "source": [
    "def _Linear_kernel(xa, xb):\n",
    "    return xa@xb.T"
   ]
  },
  {
   "cell_type": "markdown",
   "metadata": {},
   "source": [
    "## RBF Kernel"
   ]
  },
  {
   "cell_type": "markdown",
   "metadata": {},
   "source": [
    "$K(x,x') = exp(-\\gamma ||x-x'||_{2}^{2})$"
   ]
  },
  {
   "cell_type": "code",
   "execution_count": 6,
   "metadata": {},
   "outputs": [],
   "source": [
    "def _RBF_kernel(xa, xb, gamma):\n",
    "    return np.exp(- gamma * cdist(xa, xb, 'sqeuclidean'))"
   ]
  },
  {
   "cell_type": "code",
   "execution_count": 7,
   "metadata": {},
   "outputs": [],
   "source": [
    "def precompute_kernel(xa, xb):\n",
    "    linear_kernel = _Linear_kernel(xa, xb)\n",
    "    RBF_kernel = _RBF_kernel(xa, xb, 0.01)\n",
    "    cus_kernel = linear_kernel + RBF_kernel\n",
    "    cus_kernel = np.hstack((np.arange(1,len(xa)+1).reshape(-1,1),cus_kernel))\n",
    "    \n",
    "    return cus_kernel"
   ]
  },
  {
   "cell_type": "code",
   "execution_count": 8,
   "metadata": {},
   "outputs": [
    {
     "name": "stdout",
     "output_type": "stream",
     "text": [
      "linear kernel + RBF kernel accuracy: 95.32%\n"
     ]
    }
   ],
   "source": [
    "cus_train_kernel = precompute_kernel(train_X, train_X)\n",
    "cus_test_kernel = precompute_kernel(test_X, train_X)\n",
    "\n",
    "prob = svm_problem(train_y, cus_train_kernel, isKernel=True)\n",
    "param = svm_parameter('-q -t 4')\n",
    "model = svm_train(prob, param)\n",
    "p_label, p_acc, p_vals = svm_predict(test_y, cus_test_kernel, model, '-q')\n",
    "print('linear kernel + RBF kernel accuracy: {:.2f}%'.format(p_acc[0]))"
   ]
  }
 ],
 "metadata": {
  "kernelspec": {
   "display_name": "Python [conda env:ML]",
   "language": "python",
   "name": "conda-env-ML-py"
  },
  "language_info": {
   "codemirror_mode": {
    "name": "ipython",
    "version": 3
   },
   "file_extension": ".py",
   "mimetype": "text/x-python",
   "name": "python",
   "nbconvert_exporter": "python",
   "pygments_lexer": "ipython3",
   "version": "3.6.13"
  }
 },
 "nbformat": 4,
 "nbformat_minor": 2
}
