{
 "cells": [
  {
   "cell_type": "code",
   "execution_count": 1,
   "metadata": {},
   "outputs": [],
   "source": [
    "import numpy as np\n",
    "import os\n",
    "import glob\n",
    "import cv2\n",
    "from scipy.spatial.distance import cdist\n",
    "import random\n",
    "from PIL import Image"
   ]
  },
  {
   "cell_type": "markdown",
   "metadata": {},
   "source": [
    "# K-means"
   ]
  },
  {
   "cell_type": "markdown",
   "metadata": {},
   "source": [
    "Aim to find an assignment of data points to clusters, As well as a set of vectors $\\{\\mu_{k}\\}$, such that the sum of squares of the distances of each data points to its closest vector $\\mu_{k}$ is a minimum. "
   ]
  },
  {
   "cell_type": "markdown",
   "metadata": {},
   "source": [
    "## Load Image"
   ]
  },
  {
   "cell_type": "markdown",
   "metadata": {},
   "source": [
    "***info_C means the RGB information of images.(RGB value)***<br>\n",
    "C : (pixel, (B, G, R))<br>\n",
    "***info_S means the spatial information of images.(coordinate of pixel)***<br>\n",
    "S : (pixel, (x, y))<br>"
   ]
  },
  {
   "cell_type": "code",
   "execution_count": 2,
   "metadata": {},
   "outputs": [],
   "source": [
    "def extract_info(image):\n",
    "    img_C = image.reshape((10000,3)) \n",
    "    img_S = np.array([(i,j) for i in range(100) for j in range(100)])\n",
    "    return img_S, img_C"
   ]
  },
  {
   "cell_type": "markdown",
   "metadata": {},
   "source": [
    "## Kernel"
   ]
  },
  {
   "cell_type": "markdown",
   "metadata": {},
   "source": [
    "From the lecture ML Week3 Part1, page 23 in ppt: <br>\n",
    "By using the reorder data to compute the ***Gram matrix***."
   ]
  },
  {
   "cell_type": "markdown",
   "metadata": {},
   "source": [
    "$k(x,x') = e^{-\\gamma_{s}||S(x)-S(x')||^{2}} \\times e^{-\\gamma_{c}||C(x)-C(x')||^{2}}$"
   ]
  },
  {
   "cell_type": "code",
   "execution_count": 3,
   "metadata": {},
   "outputs": [],
   "source": [
    "def kernel(gamma_S, gamma_C, S, C):\n",
    "    result_S = np.exp(-gamma_S*cdist(S, S, 'sqeuclidean'))\n",
    "    result_C = np.exp(-gamma_C*cdist(C, C, 'sqeuclidean'))\n",
    "    Gram_matrix = np.multiply(result_S, result_C)\n",
    "    return Gram_matrix"
   ]
  },
  {
   "cell_type": "markdown",
   "metadata": {},
   "source": [
    "## Initial"
   ]
  },
  {
   "cell_type": "markdown",
   "metadata": {},
   "source": [
    "Initialize centers $\\mu_{k}$ (e.g. randomly pick $k$ data points as centers)<br>"
   ]
  },
  {
   "cell_type": "code",
   "execution_count": 4,
   "metadata": {},
   "outputs": [],
   "source": [
    "def initial_center(K, mode):\n",
    "    #randomly pick k data points as centers\n",
    "    center_idx = []\n",
    "    if mode == 'random':\n",
    "        center_idx = list(random.sample(range(0, 10000), K))\n",
    "    else: \n",
    "        random_idx = random.sample(range(0, 10000), 1)\n",
    "        \n",
    "        for r in range(K):\n",
    "            dist = np.zeros(10000)\n",
    "            for i in range(10000):\n",
    "                min_dist = np.inf\n",
    "                cur_dist = np.linalg.norm(info_S[i]-info_S[random_idx])\n",
    "                if cur_dist < min_dist:\n",
    "                    min_dist = cur_dist\n",
    "                dist[i] = min_dist\n",
    "            pob = dist/np.sum(dist)\n",
    "            idx = np.random.choice(np.arange(10000), 1, p=pob)\n",
    "            center_idx.append(idx[0])\n",
    "    \n",
    "    return center_idx"
   ]
  },
  {
   "cell_type": "markdown",
   "metadata": {},
   "source": [
    "You can first apply an initial clustering, then use its result to reorder your data.<br>\n"
   ]
  },
  {
   "cell_type": "code",
   "execution_count": 5,
   "metadata": {},
   "outputs": [],
   "source": [
    "def initial_cluster(center, phi_X):\n",
    "    cluster = np.zeros(len(phi_X), dtype=int)\n",
    "    for n in range(len(phi_X)):\n",
    "        distance = np.zeros(len(center))\n",
    "        for c in range(len(center)):\n",
    "            distance[c] = phi_X[n, n] + phi_X[center[c], center[c]] -2*phi_X[n, center[c]]\n",
    "        cluster[n] = np.argmin(distance)\n",
    "    return cluster"
   ]
  },
  {
   "cell_type": "markdown",
   "metadata": {},
   "source": [
    "## Distance formula in kernel space"
   ]
  },
  {
   "cell_type": "markdown",
   "metadata": {},
   "source": [
    "$||\\phi(x_{j})-\\mu_{k}^{\\phi}|| = \\phi(x_{j})-\\frac{1}{|C_{k}|}\\sum_{n=1}^{N}\\alpha_{kn}\\phi(x_{n})||\\\\\n",
    "= k(x_{j},x_{j})-\\frac{2}{|C_{k}|}\\sum_{n=1}^{N}\\alpha_{kn}k(x_{j},x_{n})+\\frac{1}{|C_{k}|^{2}}\\sum_{p}\\sum_{q}\\alpha_{kp}\\alpha_{kq}k(x_{p},x_{q})$"
   ]
  },
  {
   "cell_type": "code",
   "execution_count": 6,
   "metadata": {},
   "outputs": [],
   "source": [
    "def compute_cluster(K, kernel, cluster):\n",
    "    new_cluster = np.zeros(10000, dtype=int)\n",
    "    C = compute_C(K, cluster)\n",
    "    summation_pq = compute_summation_pq(K, kernel, cluster)\n",
    "    for j in range(10000):\n",
    "        distance = np.zeros(K)\n",
    "        for k in range(K):\n",
    "            distance[k] = kernel[j, j] - (2/C[k])*(np.sum(kernel[j, :][np.where(cluster == k)])) + (1/(C[k])**2)*summation_pq[k]\n",
    "        new_cluster[j] = np.argmin(distance)\n",
    "    \n",
    "    return new_cluster"
   ]
  },
  {
   "cell_type": "code",
   "execution_count": 7,
   "metadata": {},
   "outputs": [],
   "source": [
    "def compute_C(K, cluster):\n",
    "    C = np.zeros(K)\n",
    "    for c in range(K):\n",
    "        for n in range(10000):\n",
    "            if cluster[n] == c:\n",
    "                C[c] += 1\n",
    "    return C"
   ]
  },
  {
   "cell_type": "code",
   "execution_count": 8,
   "metadata": {},
   "outputs": [],
   "source": [
    "def compute_summation_pq(K, kernel, cluster):\n",
    "    res = np.zeros(K)\n",
    "    for k in range(K):\n",
    "        tmp = kernel.copy()\n",
    "        for n in range(len(kernel)):\n",
    "            if cluster[n]!=k:\n",
    "                tmp[n,:] = 0\n",
    "                tmp[:,n] = 0\n",
    "        res[k] = np.sum(tmp)\n",
    "    return res"
   ]
  },
  {
   "cell_type": "markdown",
   "metadata": {},
   "source": [
    "## Visualization"
   ]
  },
  {
   "cell_type": "code",
   "execution_count": 9,
   "metadata": {},
   "outputs": [],
   "source": [
    "def save_png(cluster, image_name, iter):\n",
    "    \n",
    "    (filepath,tempfilename) = os.path.split(image_name)\n",
    "    (filename,extension) = os.path.splitext(tempfilename)\n",
    "    \n",
    "    colors = np.array([[255,0,0],[0,255,0],[0,0,255],[0,215,175],[95,0,135],[255,255,0],[255,175,0]])\n",
    "    result = np.zeros((100*100, 3))\n",
    "    for n in range(10000):\n",
    "        result[n,:] = colors[cluster[n],:]\n",
    "\n",
    "    img = result.reshape(100, 100, 3)\n",
    "    img = Image.fromarray(np.uint8(img))\n",
    "    img.save(os.path.join('output', filename+f'_iter{iter}.png'))"
   ]
  },
  {
   "cell_type": "code",
   "execution_count": 10,
   "metadata": {},
   "outputs": [],
   "source": [
    "def generate_gif(image_name):\n",
    "    image=[]\n",
    "    (filepath,tempfilename) = os.path.split(image_name)\n",
    "    (filename,extension) = os.path.splitext(tempfilename)\n",
    "    image_list = sorted(glob.glob(os.path.join('output/', filename + '*.png')))\n",
    "    \n",
    "    for i, path in enumerate(image_list):\n",
    "        new = Image.open(path)\n",
    "        image.append(new)\n",
    "    image[0].save(filename + '.gif',format='GIF', save_all=True, append_images=image[1: ],duration=500, loop=0)\n",
    "    print('gif done')"
   ]
  },
  {
   "cell_type": "markdown",
   "metadata": {},
   "source": [
    "## Iteration"
   ]
  },
  {
   "cell_type": "code",
   "execution_count": 11,
   "metadata": {},
   "outputs": [],
   "source": [
    "def kernel_Kmeans(K, phi_x, cluster, image_name):\n",
    "    iter = 0\n",
    "    while True:\n",
    "        print(f'iteration {iter}')\n",
    "        new_cluster = compute_cluster(K, phi_x, cluster)\n",
    "\n",
    "        if(np.linalg.norm((new_cluster-cluster), ord=2)< 1e-2):\n",
    "            break\n",
    "        print(f'diff = {np.linalg.norm((new_cluster-cluster), ord=2)}')\n",
    "        cluster = new_cluster\n",
    "        iter += 1\n",
    "        save_png(cluster, image_name, iter)"
   ]
  },
  {
   "cell_type": "markdown",
   "metadata": {},
   "source": [
    "## Main Function"
   ]
  },
  {
   "cell_type": "code",
   "execution_count": 12,
   "metadata": {},
   "outputs": [
    {
     "name": "stdout",
     "output_type": "stream",
     "text": [
      "kernel k-means for image1.png start, initial center by method kmeans++, pick 3 points\n",
      "iteration 0\n",
      "diff = 33.91164991562634\n",
      "iteration 1\n",
      "diff = 25.748786379167466\n",
      "iteration 2\n",
      "diff = 22.06807649071391\n",
      "iteration 3\n",
      "diff = 21.748563170931547\n",
      "iteration 4\n",
      "diff = 20.615528128088304\n",
      "iteration 5\n",
      "diff = 16.217274740226856\n",
      "iteration 6\n",
      "diff = 11.916375287812984\n",
      "iteration 7\n",
      "diff = 11.704699910719626\n",
      "iteration 8\n",
      "diff = 11.532562594670797\n",
      "iteration 9\n",
      "diff = 7.810249675906654\n",
      "iteration 10\n",
      "diff = 6.244997998398398\n",
      "iteration 11\n",
      "diff = 7.0\n",
      "iteration 12\n",
      "diff = 7.745966692414834\n",
      "iteration 13\n",
      "diff = 6.928203230275509\n",
      "iteration 14\n",
      "diff = 5.656854249492381\n",
      "iteration 15\n",
      "diff = 5.291502622129181\n",
      "iteration 16\n",
      "diff = 4.0\n",
      "iteration 17\n",
      "diff = 2.8284271247461903\n",
      "iteration 18\n",
      "diff = 2.0\n",
      "iteration 19\n",
      "gif done\n",
      "kernel k-means for image2.png start, initial center by method kmeans++, pick 3 points\n",
      "iteration 0\n",
      "diff = 43.15089802078283\n",
      "iteration 1\n",
      "diff = 44.090815370097204\n",
      "iteration 2\n",
      "diff = 20.97617696340303\n",
      "iteration 3\n",
      "diff = 17.175564037317667\n",
      "iteration 4\n",
      "diff = 16.792855623746664\n",
      "iteration 5\n",
      "diff = 13.416407864998739\n",
      "iteration 6\n",
      "diff = 12.84523257866513\n",
      "iteration 7\n",
      "diff = 13.341664064126334\n",
      "iteration 8\n",
      "diff = 11.357816691600547\n",
      "iteration 9\n",
      "diff = 5.916079783099616\n",
      "iteration 10\n",
      "diff = 3.4641016151377544\n",
      "iteration 11\n",
      "diff = 2.8284271247461903\n",
      "iteration 12\n",
      "diff = 2.23606797749979\n",
      "iteration 13\n",
      "diff = 1.4142135623730951\n",
      "iteration 14\n",
      "gif done\n"
     ]
    }
   ],
   "source": [
    "image_name = ['image1.png', 'image2.png']\n",
    "mode = 'kmeans++'\n",
    "K = 3\n",
    "for name in image_name:\n",
    "    print(f'kernel k-means for {name} start, initial center by method {mode}, pick {K} points')\n",
    "    image = cv2.imread('data/'+ name, cv2.IMREAD_UNCHANGED)\n",
    "    info_S, info_C = extract_info(image)\n",
    "    Gram_matrix = kernel(gamma_S=0.001, gamma_C=0.01, S=info_S, C=info_C) \n",
    "    center_idx = initial_center(K=K, mode=mode)\n",
    "    first_cluster = initial_cluster(center=center_idx, phi_X=Gram_matrix)\n",
    "    kernel_Kmeans(K=K, phi_x=Gram_matrix, cluster=first_cluster, image_name=name)\n",
    "    generate_gif(name)"
   ]
  },
  {
   "cell_type": "code",
   "execution_count": null,
   "metadata": {},
   "outputs": [],
   "source": []
  }
 ],
 "metadata": {
  "kernelspec": {
   "display_name": "Python [conda env:ML]",
   "language": "python",
   "name": "conda-env-ML-py"
  },
  "language_info": {
   "codemirror_mode": {
    "name": "ipython",
    "version": 3
   },
   "file_extension": ".py",
   "mimetype": "text/x-python",
   "name": "python",
   "nbconvert_exporter": "python",
   "pygments_lexer": "ipython3",
   "version": "3.6.13"
  }
 },
 "nbformat": 4,
 "nbformat_minor": 2
}
