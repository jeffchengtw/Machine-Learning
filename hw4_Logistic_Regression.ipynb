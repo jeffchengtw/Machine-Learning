{
 "cells": [
  {
   "cell_type": "code",
   "execution_count": 1,
   "metadata": {},
   "outputs": [],
   "source": [
    "import numpy as np\n",
    "import matplotlib.pyplot as plt\n",
    "import math"
   ]
  },
  {
   "cell_type": "markdown",
   "metadata": {},
   "source": [
    "# 1. Logistic regression"
   ]
  },
  {
   "cell_type": "markdown",
   "metadata": {},
   "source": [
    "## Input:"
   ]
  },
  {
   "cell_type": "markdown",
   "metadata": {},
   "source": [
    "1. $N$ (Number of data points)\n",
    "2. $mx_{1}, vx_{1}, my_{1}, vy_{1}, mx_{2}, vx_{2}, my_{2}, vy_{2}$ ($m$:mean, $v$ variance)"
   ]
  },
  {
   "cell_type": "code",
   "execution_count": 2,
   "metadata": {},
   "outputs": [],
   "source": [
    "def switch_case(mode):\n",
    "    if mode == 'case 1':      \n",
    "        # Case 1\n",
    "        N = 50\n",
    "        mx1=my1 = 1\n",
    "        mx2=my2 = 10\n",
    "        vx1=vy1=vx2=vy2 = 2\n",
    "    if mode == 'case 2':\n",
    "        # case 2\n",
    "        N = 50\n",
    "        mx1=my1=1\n",
    "        mx2=my2=3\n",
    "        vx1=vy1=2\n",
    "        vx2=vy2=4\n",
    "    return mx1, my1, mx2, my2, vx1, vy1, vx2, vy2, N"
   ]
  },
  {
   "cell_type": "code",
   "execution_count": 3,
   "metadata": {},
   "outputs": [],
   "source": [
    "mx1, my1, mx2, my2, vx1, vy1, vx2, vy2, N = switch_case('case 2')"
   ]
  },
  {
   "cell_type": "markdown",
   "metadata": {},
   "source": [
    "## Function:"
   ]
  },
  {
   "cell_type": "markdown",
   "metadata": {},
   "source": [
    "1. Generate $n$ data point $D1 = (x_{1}, y_{1}), (x_{2}, y_{2}), ..., (x_{n}, y_{n})$, where $x$ and $y$ are independently samples from $N(mx_{1}, vx_{1})$ and $N(my_{1}, vy_{1})$ respectively.\n",
    "2. Generate $n$ data point $D2 = (x_{1}, y_{1}), (x_{2}, y_{2}), ..., (x_{n}, y_{n})$, where $x$ and $y$ are independently samples from $N(mx_{2}, vx_{2})$ and $N(my_{2}, vy_{2})$ respectively.\n",
    "3. Use Logistic regression to  separate $D1$ and $D2$. "
   ]
  },
  {
   "cell_type": "code",
   "execution_count": 4,
   "metadata": {},
   "outputs": [],
   "source": [
    "def univariate_gaussian_data_generator(m, s):    \n",
    "    # Box-Muller method\n",
    "    U = np.random.uniform(0,1)\n",
    "    V = np.random.uniform(0,1)\n",
    "    Z = np.sqrt(-2*np.log(U))*math.cos(2*math.pi*V)\n",
    "    \n",
    "    data = m + s**0.5*Z # output\n",
    "    \n",
    "    return data"
   ]
  },
  {
   "cell_type": "markdown",
   "metadata": {},
   "source": [
    "Design matrix, extract the $x $ item of the mathematical formula into matrix form, the number of samples in the homework is 50, and then stack D1 and D2, so we will have 100 items of x term data, the dimension of the matrix is ​​$50\\times3$<br>\n",
    "$X = \\begin{bmatrix} 1 & x_{11}& x_{12} & ...&x_{1n}\\\\ 1&x_{21}&x_{22}&...&x_{2n} \\\\ ...&...&...&...&... \\\\ 1&x_{m1}&x_{m2}&...&x_{mn}\\end{bmatrix}$<br>\n",
    "\n",
    "Y here is the category, and we first classify D1 and D2 into 0 and 1 categories respectively.<br>\n",
    "$Y = \\begin{bmatrix}Y1\\\\Y2\\\\...\\\\Y3\\end{bmatrix}$"
   ]
  },
  {
   "cell_type": "code",
   "execution_count": 5,
   "metadata": {},
   "outputs": [],
   "source": [
    "D1 = []\n",
    "D2 = []\n",
    "def to_X(D1, D2):\n",
    "    X = np.ones((2 * len(D1), 3))\n",
    "    X[:, 1:] = np.vstack((D1,D2))\n",
    "    return X\n",
    "\n",
    "def to_y(N):\n",
    "    y = np.zeros((2 * N, 1))\n",
    "    y[N:] = np.ones((N, 1))\n",
    "    return y\n",
    "\n",
    "for i in range(N):\n",
    "    D1.append(((univariate_gaussian_data_generator(mx1, vx1)), univariate_gaussian_data_generator(my1, vy1)))\n",
    "    D2.append(((univariate_gaussian_data_generator(mx2, vx2)), univariate_gaussian_data_generator(my2, vy2)))\n",
    "\n",
    "X = to_X(D1,D2)\n",
    "y = to_y(N)"
   ]
  },
  {
   "cell_type": "markdown",
   "metadata": {},
   "source": [
    "## Gradient descent"
   ]
  },
  {
   "cell_type": "markdown",
   "metadata": {},
   "source": [
    "$x_{j+1} = x_{j} - \\lambda \\frac{df(x)}{dx} \\\\ W_{j+1} = W_{j} - \\lambda \\frac{d(likelihood)}{dW} \\\\ W_{j+1} = W_{j} - \\lambda \\sum_{i=1}^{m}x_{i}(\\frac{1}{1+e^{-W^{T}_{n}x_{i}}}-Y_{i})$<br>\n",
    "Final formula:<br>\n",
    "$W_{j+1} = W_{j} - \\lambda X^{T}(f(W^{T}x)-Y)$<br>\n",
    "where $f(W^{T}x) = \\begin{bmatrix}\\frac{1}{1+e^{-W^{T}_{j}x_{1}}}\\\\\\frac{1}{1+e^{-W^{T}_{j}x_{2}}}\\\\...\\\\\\frac{1}{1+e^{-W^{T}_{j}x_{m}}}\\end{bmatrix}$<br>\n",
    "The first time I don't know $W_{j}$ , so first create a $3\\times1$ matrix, and also create the updated $W_{j+1}$\n",
    "\n",
    "Create a matrix to store the above formula $f(W^{T}x)$ , this seems to be a sigmoid function, so the variable name is taken as sigmoid\n",
    "\n",
    "Due to the matrix content of sigmoid, the value is filled according to $x_{i}$ in the formula, so there are several data in X, and there should be several in cols of sigmoid"
   ]
  },
  {
   "cell_type": "markdown",
   "metadata": {},
   "source": [
    "#### Iterating"
   ]
  },
  {
   "cell_type": "code",
   "execution_count": 6,
   "metadata": {},
   "outputs": [],
   "source": [
    "def gradient_descent(X, y, lr=0.001):\n",
    "    w = np.random.rand(3,1)\n",
    "    w_new = np.random.rand(3,1)\n",
    "    cols_X = X.shape[0]\n",
    "    sigmoid = np.zeros((cols_X,1))\n",
    "   \n",
    "    count = 0\n",
    "    while(True):\n",
    "        count += 1\n",
    "        w = w_new\n",
    "        for i in range (100):\n",
    "            sigmoid[i,:] = 1 / (1+np.exp(-w.T@X[i]))\n",
    "            \n",
    "        delta = X.T@(sigmoid-y)\n",
    "        w_new = w - lr*delta\n",
    "        if(np.linalg.norm(w_new-w)<1e-2 or (count>1e4 and np.linalg.norm(w_new-w)<80) or count>1e5):\n",
    "            break\n",
    "        \n",
    "    print('Gradient descent : \\n')\n",
    "    print('w:')\n",
    "    print(w_new[0])\n",
    "    print(w_new[1])\n",
    "    print(w_new[2])\n",
    "    \n",
    "    return w_new\n",
    "\n",
    "def predict(X, w):\n",
    "    N = len(X)\n",
    "    predict = np.empty((N,1))\n",
    "    for i in range(N):\n",
    "        predict[i]=0 if X[i]@w<0 else 1\n",
    "    return predict\n",
    "\n",
    "def show_confusion_matrix(y, pred):\n",
    "    TP=TN=FP=FN=0\n",
    "    \n",
    "    for i in range(len(pred)):\n",
    "        if y[i] == 0:\n",
    "            if y[i] == pred[i]:\n",
    "                TN+=1\n",
    "            else:\n",
    "                FP+=1\n",
    "        if y[i] == 1:\n",
    "            if y[i] == pred[i]:\n",
    "                TP+=1\n",
    "            else:\n",
    "                FN+=1\n",
    "    matrix=np.empty((2,2))\n",
    "    matrix[0,0],matrix[0,1],matrix[1,0],matrix[1,1]=TP,FN,FP,TN\n",
    "    print('Confusion Matrix:')\n",
    "    print('               Predict cluster 1  Predict cluster 2')\n",
    "    print('Is cluster 1        {:.0f}               {:.0f}       '.format(matrix[0,0],matrix[0,1]))\n",
    "    print('Is cluster 2        {:.0f}               {:.0f}       '.format(matrix[1,0],matrix[1,1]))\n",
    "    print()\n",
    "    print('Sensitivity (Successfully predict cluster 1): {}'.format(matrix[0,0]/(matrix[0,0]+matrix[1,0])))\n",
    "    print('Specificity (Successfully predict cluster 2): {}'.format(matrix[0,0]/(matrix[0,0]+matrix[0,1])))"
   ]
  },
  {
   "cell_type": "code",
   "execution_count": 7,
   "metadata": {},
   "outputs": [
    {
     "name": "stdout",
     "output_type": "stream",
     "text": [
      "Gradient descent : \n",
      "\n",
      "w:\n",
      "[-0.62351721]\n",
      "[0.18999606]\n",
      "[0.3672383]\n",
      "Confusion Matrix:\n",
      "               Predict cluster 1  Predict cluster 2\n",
      "Is cluster 1        44               6       \n",
      "Is cluster 2        22               28       \n",
      "\n",
      "Sensitivity (Successfully predict cluster 1): 0.6666666666666666\n",
      "Specificity (Successfully predict cluster 2): 0.88\n"
     ]
    }
   ],
   "source": [
    "w_g = gradient_descent(X, y)\n",
    "pred_g = predict(X, w_g)\n",
    "show_confusion_matrix(y, pred_g)"
   ]
  },
  {
   "cell_type": "markdown",
   "metadata": {},
   "source": [
    "## Newton's in logistic regression"
   ]
  },
  {
   "cell_type": "markdown",
   "metadata": {},
   "source": [
    "$W_{n+1} = W_{n} - (X^{T}RX)^{-1}X^{T}(f(W^{T}_{n}x)-Y) $ <br>\n",
    "where R is diagonal matrix mxm of$\\frac{e^{-W^{T}_{n}x_{i}}}{(1+e^{-W^{T}x_{i}})^{2}}$"
   ]
  },
  {
   "cell_type": "code",
   "execution_count": 8,
   "metadata": {},
   "outputs": [],
   "source": [
    "def newton_method(X, y, lr=0.001):\n",
    "    n_samples = len(X)\n",
    "    R = np.zeros((n_samples, n_samples))\n",
    "    sigmoid = np.zeros((n_samples,1))\n",
    "    w = np.random.rand(3,1)\n",
    "    w_new = np.random.rand(3,1)\n",
    "    count = 0\n",
    "    while(True):\n",
    "        count += 1\n",
    "        w = w_new\n",
    "        for i in range(n_samples):\n",
    "            sigmoid[i,:] = 1 / (1+np.exp(-w.T@X[i]))\n",
    "            R[i,i] = (np.exp(-w.T@X[i])) / (1 + np.exp(-w.T@X[i]))**2\n",
    "        H = X.T@R@X\n",
    "        \n",
    "        try:\n",
    "            H_inv = np.linalg.inv(H)\n",
    "        except np.linalg.LinAlgError as error:\n",
    "            print(str(error))\n",
    "            print('Hessian matrix non invertible, switch to Gradient descent')\n",
    "        \n",
    "        w_new = w - np.linalg.inv(H)@X.T@(sigmoid-y)\n",
    "        if(np.linalg.norm(w_new-w)<1e-2 or (count>1e4 and np.linalg.norm(w_new-w)<80) or count>1e5):\n",
    "            break\n",
    "        \n",
    "    print(\"Newton's method: \\n\")\n",
    "    print('w:')\n",
    "    print(w_new[0])\n",
    "    print(w_new[1])\n",
    "    print(w_new[2])\n",
    "    return w_new\n"
   ]
  },
  {
   "cell_type": "code",
   "execution_count": 9,
   "metadata": {},
   "outputs": [
    {
     "name": "stderr",
     "output_type": "stream",
     "text": [
      "D:\\Anaconda\\lib\\site-packages\\ipykernel_launcher.py:13: RuntimeWarning: invalid value encountered in true_divide\n",
      "  del sys.path[0]\n"
     ]
    },
    {
     "name": "stdout",
     "output_type": "stream",
     "text": [
      "Newton's method: \n",
      "\n",
      "w:\n",
      "[nan]\n",
      "[nan]\n",
      "[nan]\n",
      "Confusion Matrix:\n",
      "               Predict cluster 1  Predict cluster 2\n",
      "Is cluster 1        50               0       \n",
      "Is cluster 2        50               0       \n",
      "\n",
      "Sensitivity (Successfully predict cluster 1): 0.5\n",
      "Specificity (Successfully predict cluster 2): 1.0\n"
     ]
    },
    {
     "name": "stderr",
     "output_type": "stream",
     "text": [
      "D:\\Anaconda\\lib\\site-packages\\ipykernel_launcher.py:31: RuntimeWarning: invalid value encountered in less\n"
     ]
    }
   ],
   "source": [
    "w = newton_method(X, y)\n",
    "pred_newtons = predict(X, w)\n",
    "show_confusion_matrix(y, pred_newtons)"
   ]
  },
  {
   "cell_type": "code",
   "execution_count": 10,
   "metadata": {},
   "outputs": [],
   "source": [
    "def plot_ground_truth(D1, D2):\n",
    "    D1 = np.array(D1)\n",
    "    D2 = np.array(D2)\n",
    "    plt.figure()\n",
    "    plt.plot(D1[:,0], D1[:,1],'ro')\n",
    "    plt.plot(D2[:,0], D2[:,1],'bo')\n",
    "    plt.title('Ground Truth')\n",
    "    plt.show()\n",
    "\n",
    "def plt_newtons_result(D1, D2, pred):\n",
    "    C0 = []\n",
    "    C1 = []\n",
    "    D1 = np.array(D1)\n",
    "    D2 = np.array(D2)\n",
    "    src_data = np.vstack((D1,D2))\n",
    "    for i in range(len(pred)):\n",
    "        if pred[i] == 0:\n",
    "            C0.append(src_data[i]) \n",
    "        else:\n",
    "            C1.append(src_data[i])\n",
    "    \n",
    "    C0 = np.array(C0)\n",
    "    C1 = np.array(C1)\n",
    "    plt.figure()\n",
    "    plt.plot(C0[:,0], C0[:,1],'ro')\n",
    "    plt.plot(C1[:,0], C1[:,1],'bo')\n",
    "    plt.title('Newtons method')\n",
    "    plt.show()\n",
    "    \n",
    "def plt_gradient_descent_result(D1, D2, pred):\n",
    "    C0 = []\n",
    "    C1 = []\n",
    "    D1 = np.array(D1)\n",
    "    D2 = np.array(D2)\n",
    "    src_data = np.vstack((D1,D2))\n",
    "    for i in range(len(pred)):\n",
    "        if pred[i] == 0:\n",
    "            C0.append(src_data[i]) \n",
    "        else:\n",
    "            C1.append(src_data[i])\n",
    "    \n",
    "    C0 = np.array(C0)\n",
    "    C1 = np.array(C1)\n",
    "    plt.figure()\n",
    "    plt.plot(C0[:,0], C0[:,1],'ro')\n",
    "    plt.plot(C1[:,0], C1[:,1],'bo')\n",
    "    plt.title('Gradient Descent')\n",
    "    plt.show()"
   ]
  },
  {
   "cell_type": "code",
   "execution_count": 11,
   "metadata": {},
   "outputs": [
    {
     "data": {
      "image/png": "[encoded data removed]",
      "text/plain": [
       "<Figure size 432x288 with 1 Axes>"
      ]
     },
     "metadata": {
      "needs_background": "light"
     },
     "output_type": "display_data"
    },
    {
     "ename": "IndexError",
     "evalue": "too many indices for array",
     "output_type": "error",
     "traceback": [
      "\u001b[1;31m---------------------------------------------------------------------------\u001b[0m",
      "\u001b[1;31mIndexError\u001b[0m                                Traceback (most recent call last)",
      "\u001b[1;32m<ipython-input-11-c873f5c434ae>\u001b[0m in \u001b[0;36m<module>\u001b[1;34m\u001b[0m\n\u001b[0;32m      1\u001b[0m \u001b[0mplot_ground_truth\u001b[0m\u001b[1;33m(\u001b[0m\u001b[0mD1\u001b[0m\u001b[1;33m,\u001b[0m \u001b[0mD2\u001b[0m\u001b[1;33m)\u001b[0m\u001b[1;33m\u001b[0m\u001b[1;33m\u001b[0m\u001b[0m\n\u001b[1;32m----> 2\u001b[1;33m \u001b[0mplt_newtons_result\u001b[0m\u001b[1;33m(\u001b[0m\u001b[0mD1\u001b[0m\u001b[1;33m,\u001b[0m \u001b[0mD2\u001b[0m\u001b[1;33m,\u001b[0m \u001b[0mpred_newtons\u001b[0m\u001b[1;33m)\u001b[0m\u001b[1;33m\u001b[0m\u001b[1;33m\u001b[0m\u001b[0m\n\u001b[0m\u001b[0;32m      3\u001b[0m \u001b[0mplt_gradient_descent_result\u001b[0m\u001b[1;33m(\u001b[0m\u001b[0mD1\u001b[0m\u001b[1;33m,\u001b[0m \u001b[0mD2\u001b[0m\u001b[1;33m,\u001b[0m \u001b[0mpred_g\u001b[0m\u001b[1;33m)\u001b[0m\u001b[1;33m\u001b[0m\u001b[1;33m\u001b[0m\u001b[0m\n",
      "\u001b[1;32m<ipython-input-10-142eafedba8c>\u001b[0m in \u001b[0;36mplt_newtons_result\u001b[1;34m(D1, D2, pred)\u001b[0m\n\u001b[0;32m     23\u001b[0m     \u001b[0mC1\u001b[0m \u001b[1;33m=\u001b[0m \u001b[0mnp\u001b[0m\u001b[1;33m.\u001b[0m\u001b[0marray\u001b[0m\u001b[1;33m(\u001b[0m\u001b[0mC1\u001b[0m\u001b[1;33m)\u001b[0m\u001b[1;33m\u001b[0m\u001b[1;33m\u001b[0m\u001b[0m\n\u001b[0;32m     24\u001b[0m     \u001b[0mplt\u001b[0m\u001b[1;33m.\u001b[0m\u001b[0mfigure\u001b[0m\u001b[1;33m(\u001b[0m\u001b[1;33m)\u001b[0m\u001b[1;33m\u001b[0m\u001b[1;33m\u001b[0m\u001b[0m\n\u001b[1;32m---> 25\u001b[1;33m     \u001b[0mplt\u001b[0m\u001b[1;33m.\u001b[0m\u001b[0mplot\u001b[0m\u001b[1;33m(\u001b[0m\u001b[0mC0\u001b[0m\u001b[1;33m[\u001b[0m\u001b[1;33m:\u001b[0m\u001b[1;33m,\u001b[0m\u001b[1;36m0\u001b[0m\u001b[1;33m]\u001b[0m\u001b[1;33m,\u001b[0m \u001b[0mC0\u001b[0m\u001b[1;33m[\u001b[0m\u001b[1;33m:\u001b[0m\u001b[1;33m,\u001b[0m\u001b[1;36m1\u001b[0m\u001b[1;33m]\u001b[0m\u001b[1;33m,\u001b[0m\u001b[1;34m'ro'\u001b[0m\u001b[1;33m)\u001b[0m\u001b[1;33m\u001b[0m\u001b[1;33m\u001b[0m\u001b[0m\n\u001b[0m\u001b[0;32m     26\u001b[0m     \u001b[0mplt\u001b[0m\u001b[1;33m.\u001b[0m\u001b[0mplot\u001b[0m\u001b[1;33m(\u001b[0m\u001b[0mC1\u001b[0m\u001b[1;33m[\u001b[0m\u001b[1;33m:\u001b[0m\u001b[1;33m,\u001b[0m\u001b[1;36m0\u001b[0m\u001b[1;33m]\u001b[0m\u001b[1;33m,\u001b[0m \u001b[0mC1\u001b[0m\u001b[1;33m[\u001b[0m\u001b[1;33m:\u001b[0m\u001b[1;33m,\u001b[0m\u001b[1;36m1\u001b[0m\u001b[1;33m]\u001b[0m\u001b[1;33m,\u001b[0m\u001b[1;34m'bo'\u001b[0m\u001b[1;33m)\u001b[0m\u001b[1;33m\u001b[0m\u001b[1;33m\u001b[0m\u001b[0m\n\u001b[0;32m     27\u001b[0m     \u001b[0mplt\u001b[0m\u001b[1;33m.\u001b[0m\u001b[0mtitle\u001b[0m\u001b[1;33m(\u001b[0m\u001b[1;34m'Newtons method'\u001b[0m\u001b[1;33m)\u001b[0m\u001b[1;33m\u001b[0m\u001b[1;33m\u001b[0m\u001b[0m\n",
      "\u001b[1;31mIndexError\u001b[0m: too many indices for array"
     ]
    },
    {
     "data": {
      "text/plain": [
       "<Figure size 432x288 with 0 Axes>"
      ]
     },
     "metadata": {},
     "output_type": "display_data"
    }
   ],
   "source": [
    "plot_ground_truth(D1, D2)\n",
    "plt_newtons_result(D1, D2, pred_newtons)\n",
    "plt_gradient_descent_result(D1, D2, pred_g)"
   ]
  }
 ],
 "metadata": {
  "kernelspec": {
   "display_name": "Python 3",
   "language": "python",
   "name": "python3"
  },
  "language_info": {
   "codemirror_mode": {
    "name": "ipython",
    "version": 3
   },
   "file_extension": ".py",
   "mimetype": "text/x-python",
   "name": "python",
   "nbconvert_exporter": "python",
   "pygments_lexer": "ipython3",
   "version": "3.7.4"
  }
 },
 "nbformat": 4,
 "nbformat_minor": 2
}
