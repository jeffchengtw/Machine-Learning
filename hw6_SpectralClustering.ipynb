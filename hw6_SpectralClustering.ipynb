{
 "cells": [
  {
   "cell_type": "code",
   "execution_count": 1,
   "metadata": {},
   "outputs": [],
   "source": [
    "import numpy as np\n",
    "import os\n",
    "import glob\n",
    "import cv2\n",
    "from scipy.spatial.distance import cdist\n",
    "from PIL import Image\n",
    "import matplotlib.pyplot as plt"
   ]
  },
  {
   "cell_type": "markdown",
   "metadata": {},
   "source": [
    "# Spectral Clustering"
   ]
  },
  {
   "cell_type": "markdown",
   "metadata": {},
   "source": [
    "Build similarity graph (very possibly by kernel) mapping to eigenspace of graph Laplacian (imagined as indicators)"
   ]
  },
  {
   "cell_type": "markdown",
   "metadata": {},
   "source": [
    "![title](note/spectral_clustering_algorithm.PNG)"
   ]
  },
  {
   "cell_type": "markdown",
   "metadata": {},
   "source": [
    "## Load Image"
   ]
  },
  {
   "cell_type": "markdown",
   "metadata": {},
   "source": [
    "***info_C means the RGB information of images.(RGB value)***<br>\n",
    "C : (pixel, (B, G, R))<br>\n",
    "***info_S means the spatial information of images.(coordinate of pixel)***<br>\n",
    "S : (pixel, (x, y))<br>"
   ]
  },
  {
   "cell_type": "code",
   "execution_count": 2,
   "metadata": {},
   "outputs": [],
   "source": [
    "def extract_info(image):\n",
    "    img_C = image.reshape((10000,3)) \n",
    "    img_S = np.array([(i,j) for i in range(100) for j in range(100)])\n",
    "    return img_S, img_C"
   ]
  },
  {
   "cell_type": "markdown",
   "metadata": {},
   "source": [
    "## Kernel"
   ]
  },
  {
   "cell_type": "markdown",
   "metadata": {},
   "source": [
    "By using the reorder data to compute the ***Gram matrix***."
   ]
  },
  {
   "cell_type": "markdown",
   "metadata": {},
   "source": [
    "$k(x,x') = e^{-\\gamma_{s}||S(x)-S(x')||^{2}} \\times e^{-\\gamma_{c}||C(x)-C(x')||^{2}}$"
   ]
  },
  {
   "cell_type": "code",
   "execution_count": 3,
   "metadata": {},
   "outputs": [],
   "source": [
    "def kernel(gamma_S, gamma_C, S, C):\n",
    "    result_S = np.exp(-gamma_S*cdist(S, S, 'sqeuclidean'))\n",
    "    result_C = np.exp(-gamma_C*cdist(C, C, 'sqeuclidean'))\n",
    "    Gram_matrix = np.multiply(result_S, result_C)\n",
    "    return Gram_matrix"
   ]
  },
  {
   "cell_type": "markdown",
   "metadata": {},
   "source": [
    "## Initial"
   ]
  },
  {
   "cell_type": "markdown",
   "metadata": {},
   "source": [
    "Initialize centers $\\mu_{k}$ (e.g. randomly pick $k$ data points as centers)<br>"
   ]
  },
  {
   "cell_type": "code",
   "execution_count": 4,
   "metadata": {},
   "outputs": [],
   "source": [
    "def initial_center(K, U, info_S, mode=\"random\"):\n",
    "    cluster = np.random.randint(0, K, 10000)\n",
    "    if mode == 'random':\n",
    "        high = U.max(axis=0)\n",
    "        low = U.min(axis=0)\n",
    "        interval = high - low\n",
    "        centroids =\tnp.random.rand(K, K)\n",
    "        for i in range(K):\n",
    "            centroids[:, i] *= interval[i]\n",
    "            centroids[:, i] += low[i]\n",
    "    elif mode == 'kmeans++':\n",
    "        centroids = [U[np.random.choice(range(10000)), :]]\n",
    "        for i in range(K - 1):\n",
    "            dist = cdist(U, centroids, 'euclidean').min(axis=1)\n",
    "            prob = dist / np.sum(dist)\n",
    "            centroids.append(U[np.random.choice(range(10000), p=prob)])\n",
    "    centroids = np.array(centroids)\n",
    "    return centroids"
   ]
  },
  {
   "cell_type": "markdown",
   "metadata": {},
   "source": [
    "## Laplacian"
   ]
  },
  {
   "cell_type": "markdown",
   "metadata": {},
   "source": [
    "***Ratio cut***<br>\n",
    "$L = D-W$<br>\n",
    "***Normalized cut***<br>\n",
    "$L=I-D^{\\frac{-1}{2}}WD^{\\frac{-1}{2}}$"
   ]
  },
  {
   "cell_type": "code",
   "execution_count": 5,
   "metadata": {},
   "outputs": [],
   "source": [
    "def compute_Laplacian(W, cut):\n",
    "    if cut == 'ratio cut':\n",
    "        D = np.sum(W)\n",
    "        L = D - W\n",
    "    else:\n",
    "        D = np.sum(W, axis=1)\n",
    "        D_sqr = np.diag(np.power(D, -0.5))\n",
    "        L = np.identity(10000) - D_sqr @ W @ D_sqr\n",
    "    \n",
    "    return L"
   ]
  },
  {
   "cell_type": "markdown",
   "metadata": {},
   "source": [
    "## Eigen"
   ]
  },
  {
   "cell_type": "markdown",
   "metadata": {},
   "source": [
    "np.linalg.eig(a)<br>\n",
    "***Compute the eigenvalues and right eigenvectors of a square array.***<br>\n",
    "input a : Matrices for which the eigenvalues and right eigenvectors will be computed.<br>\n",
    "output v, vector : The eigenvalues, each repeated according to its multiplicity & The normalized (unit “length”) <br>eigenvectors, such that the column v[:,i] is the eigenvector corresponding to the eigenvalue w[i]."
   ]
  },
  {
   "cell_type": "code",
   "execution_count": 6,
   "metadata": {},
   "outputs": [],
   "source": [
    "def compute_eigen(L, mode, cut, image_name):\n",
    "    name_value = f\"eigen_value_{mode}_{cut}_\"+image_name+\".npy\"\n",
    "    name_vector = f\"eigen_vector_{mode}_{cut}_\"+image_name+\".npy\"\n",
    "    \n",
    "    if (os.path.exists(name_value) and os.path.exists(name_vector)):\n",
    "        print(f'there is npy already in folder, load the npy file')\n",
    "        eigen_value = np.load(name_value)\n",
    "        eigen_vector = np.load(name_vector)\n",
    "    else:\n",
    "        print(f'there is no npy already in folder, computing eigen problem...')\n",
    "        eigen_value, eigen_vector = np.linalg.eig(L)\n",
    "        np.save(name_value , eigen_value)\n",
    "        np.save(name_vector, eigen_vector)\n",
    "    return eigen_value, eigen_vector"
   ]
  },
  {
   "cell_type": "markdown",
   "metadata": {},
   "source": [
    "## U"
   ]
  },
  {
   "cell_type": "markdown",
   "metadata": {},
   "source": [
    "Let $U\\in \\mathbb{R}$ be the matrix containing the vectors $u_{1},...,u_{k}$ as collums."
   ]
  },
  {
   "cell_type": "code",
   "execution_count": 7,
   "metadata": {},
   "outputs": [],
   "source": [
    "def compute_U(eigen_values, eigen_vectors, K):\n",
    "    idx = np.argsort(eigen_values)\n",
    "    eigen_vec = eigen_vectors[:, idx]\n",
    "    U = eigen_vec[:, 1:K+1].real\n",
    "    return U"
   ]
  },
  {
   "cell_type": "markdown",
   "metadata": {},
   "source": [
    "## T"
   ]
  },
  {
   "cell_type": "code",
   "execution_count": 8,
   "metadata": {},
   "outputs": [],
   "source": [
    "def compute_T(U):\n",
    "    T = np.zeros(U.shape, dtype=np.float64)\n",
    "    for i in range(10000):\n",
    "        T[i] = U[i] / np.sqrt(np.sum(U[i] ** 2))\n",
    "    return T"
   ]
  },
  {
   "cell_type": "markdown",
   "metadata": {},
   "source": [
    "## Clustering"
   ]
  },
  {
   "cell_type": "code",
   "execution_count": 9,
   "metadata": {},
   "outputs": [],
   "source": [
    "def clustering(K, data, centers):\n",
    "    N = len(data)\n",
    "    cluster = np.zeros(N, dtype=int)\n",
    "    for n in range(N):\n",
    "        distance = np.zeros(K)\n",
    "        for k in range(K):\n",
    "            distance[k] = np.linalg.norm((data[n]-centers[k]), ord=2)\n",
    "        cluster[n] = np.argmin(distance)\n",
    "    return cluster"
   ]
  },
  {
   "cell_type": "markdown",
   "metadata": {},
   "source": [
    "## Update Center"
   ]
  },
  {
   "cell_type": "code",
   "execution_count": 10,
   "metadata": {},
   "outputs": [],
   "source": [
    "def updateCentroids(K, U, centers, cluster):\n",
    "    centers = np.zeros(centers.shape, dtype=np.float64)\n",
    "    cnt = np.zeros(K, dtype=np.int32)\n",
    "    for i in range(10000):\n",
    "        centers[cluster[i]] += U[i]\n",
    "        cnt[cluster[i]] += 1\n",
    "    for i in range(K):\n",
    "        if cnt[i] == 0:\n",
    "            cnt[i] = 1\n",
    "        centers[i] /= cnt[i]\n",
    "    return centers"
   ]
  },
  {
   "cell_type": "markdown",
   "metadata": {},
   "source": [
    "## Iteration"
   ]
  },
  {
   "cell_type": "code",
   "execution_count": 11,
   "metadata": {},
   "outputs": [],
   "source": [
    "def kernel_Kmeans(K, U, mode, image_name):\n",
    "    hist = []\n",
    "    centers = initial_center(K=K, U=U, info_S=info_S, mode=mode)\n",
    "    iter=1000\n",
    "    for i in range(iter):\n",
    "        print(\"iter \", i)\n",
    "        new_cluster = clustering(K, U, centers)\n",
    "        hist.append(new_cluster)\n",
    "        if i != 0:\n",
    "            if(np.linalg.norm((new_cluster-cluster), ord=2)<1e-2):\n",
    "                break\n",
    "        cluster = new_cluster\n",
    "        save_png(cluster, image_name, i)\n",
    "        centers = updateCentroids(K=K, U=U, centers=centers, cluster=cluster)\n",
    "    return hist"
   ]
  },
  {
   "cell_type": "markdown",
   "metadata": {},
   "source": [
    "## Visualization"
   ]
  },
  {
   "cell_type": "code",
   "execution_count": 12,
   "metadata": {},
   "outputs": [],
   "source": [
    "def save_png(cluster, image_name, iter):\n",
    "    \n",
    "    (filepath,tempfilename) = os.path.split(image_name)\n",
    "    (filename,extension) = os.path.splitext(tempfilename)\n",
    "    \n",
    "    colors = np.array([[255,0,0],[0,255,0],[0,0,255],[0,215,175],[95,0,135],[255,255,0],[255,175,0]])\n",
    "    result = np.zeros((100*100, 3))\n",
    "    for n in range(10000):\n",
    "        result[n,:] = colors[cluster[n],:]\n",
    "\n",
    "    img = result.reshape(100, 100, 3)\n",
    "    img = Image.fromarray(np.uint8(img))\n",
    "    img.save(os.path.join('output', filename+f'_iter{iter}.png'))"
   ]
  },
  {
   "cell_type": "code",
   "execution_count": 13,
   "metadata": {},
   "outputs": [],
   "source": [
    "def generate_gif(image_name):\n",
    "    image=[]\n",
    "    (filepath,tempfilename) = os.path.split(image_name)\n",
    "    (filename,extension) = os.path.splitext(tempfilename)\n",
    "    image_list = sorted(glob.glob(os.path.join('output/', filename + '*.png')))\n",
    "    \n",
    "    for i, path in enumerate(image_list):\n",
    "        new = Image.open(path)\n",
    "        image.append(new)\n",
    "    image[0].save(filename + '.gif',format='GIF', save_all=True, append_images=image[1: ],duration=500, loop=0)\n",
    "    print('gif done')"
   ]
  },
  {
   "cell_type": "code",
   "execution_count": 14,
   "metadata": {},
   "outputs": [],
   "source": [
    "def drawEigenSpace(K, eigen, cluster, cut, imagename):\n",
    "    colors = ['red','green','blue',[0,215,175],[95,0,135],[255,255,0],[255,175,0]]\n",
    "    plt.clf()\n",
    "    title = \"Eigen-Space\"\n",
    "    cluster_x = []\n",
    "    cluster_y = []\n",
    "    if K < 3:\n",
    "        for j in range(K):\n",
    "            cluster_x.append([])\n",
    "            cluster_y.append([])\n",
    "        for i in range(10000):\n",
    "            cluster_x[cluster[i]].append(eigen[i][0])\n",
    "            cluster_y[cluster[i]].append(eigen[i][1])\n",
    "        for i in range(K):\n",
    "            plt.scatter(cluster_x[i], cluster_y[i], s=2, c=[colors[i]])\n",
    "        plt.title(title)\n",
    "        plt.tight_layout()\n",
    "        plt.savefig(f'./spectral-clustering/{imagename}_{K}-cluster_{cut}_eigenspace.png')\n",
    "    else:\n",
    "        fig = plt.figure()\n",
    "        ax = fig.gca(projection=\"3d\")\n",
    "        x = eigen[:, 0]\n",
    "        y = eigen[:, 1]\n",
    "        z = eigen[:, 2]\n",
    "        ax.set_xlabel(\"1st dim\")\n",
    "        ax.set_ylabel(\"2nd dim\")\n",
    "        ax.set_zlabel(\"3rd dim\")\n",
    "        plt.title(\"coordinates in the eigenspace of graph Laplacian\")\n",
    "        for i in range(K):\n",
    "            ax.scatter(x[cluster==i], y[cluster==i], z[cluster==i], '.')\n",
    "        plt.savefig(f'./spectral-clustering/{imagename}_{K}-cluster_{cut}_eigenspace.png')"
   ]
  },
  {
   "cell_type": "markdown",
   "metadata": {},
   "source": [
    "## Iteration"
   ]
  },
  {
   "cell_type": "code",
   "execution_count": 15,
   "metadata": {},
   "outputs": [],
   "source": [
    "def kernel_Kmeans(K, U, mode, image_name):\n",
    "    hist = []\n",
    "    centers = initial_center(K=K, U=U, info_S=info_S, mode=mode)\n",
    "    iter=1000\n",
    "    for i in range(iter):\n",
    "        print(\"iter \", i)\n",
    "        new_cluster = clustering(K, U, centers)\n",
    "        hist.append(new_cluster)\n",
    "        if i != 0:\n",
    "            if(np.linalg.norm((new_cluster-cluster), ord=2)<1e-2):\n",
    "                break\n",
    "        cluster = new_cluster\n",
    "        save_png(cluster, image_name, i)\n",
    "        centers = updateCentroids(K=K, U=U, centers=centers, cluster=cluster)\n",
    "    return hist"
   ]
  },
  {
   "cell_type": "markdown",
   "metadata": {},
   "source": [
    "## Main Function"
   ]
  },
  {
   "cell_type": "code",
   "execution_count": 16,
   "metadata": {},
   "outputs": [
    {
     "name": "stdout",
     "output_type": "stream",
     "text": [
      "kernel k-means for image1.png start, initial center by method random, pick 2 points\n",
      "there is npy already in folder, load the npy file\n",
      "iter  0\n",
      "iter  1\n",
      "iter  2\n",
      "iter  3\n",
      "iter  4\n",
      "iter  5\n",
      "iter  6\n",
      "iter  7\n",
      "iter  8\n",
      "gif done\n",
      "kernel k-means for image2.png start, initial center by method random, pick 2 points\n",
      "there is npy already in folder, load the npy file\n",
      "iter  0\n",
      "iter  1\n",
      "iter  2\n",
      "iter  3\n",
      "iter  4\n",
      "iter  5\n",
      "gif done\n"
     ]
    },
    {
     "data": {
      "image/png": "[encoded data removed]",
      "text/plain": [
       "<Figure size 432x288 with 1 Axes>"
      ]
     },
     "metadata": {
      "needs_background": "light"
     },
     "output_type": "display_data"
    }
   ],
   "source": [
    "image_name = ['image1.png', 'image2.png']\n",
    "mode = 'random'\n",
    "cut = 'normalized'\n",
    "K = 2\n",
    "for name in image_name:\n",
    "    print(f'kernel k-means for {name} start, initial center by method {mode}, pick {K} points')\n",
    "    image = cv2.imread('data/'+ name, cv2.IMREAD_UNCHANGED)\n",
    "    info_S, info_C = extract_info(image)\n",
    "    Gram_matrix = kernel(gamma_S=0.001, gamma_C=0.01, S=info_S, C=info_C) \n",
    "    L = compute_Laplacian(W=Gram_matrix, cut=cut)\n",
    "    eigen_val, eigen_vec = compute_eigen(L=L, mode=mode, cut=cut, image_name=name)\n",
    "    U = compute_U(eigen_val, eigen_vec, K=K)\n",
    "    T = compute_T(U)\n",
    "    history = kernel_Kmeans(K=K, U=T, mode=mode, image_name=name)\n",
    "    generate_gif(name)\n",
    "\n",
    "    #print(history)\n",
    "    drawEigenSpace(K=K, eigen=U, cluster=history[-1], cut=cut, imagename=name)"
   ]
  }
 ],
 "metadata": {
  "kernelspec": {
   "display_name": "Python [conda env:ML]",
   "language": "python",
   "name": "conda-env-ML-py"
  },
  "language_info": {
   "codemirror_mode": {
    "name": "ipython",
    "version": 3
   },
   "file_extension": ".py",
   "mimetype": "text/x-python",
   "name": "python",
   "nbconvert_exporter": "python",
   "pygments_lexer": "ipython3",
   "version": "3.6.13"
  }
 },
 "nbformat": 4,
 "nbformat_minor": 2
}
